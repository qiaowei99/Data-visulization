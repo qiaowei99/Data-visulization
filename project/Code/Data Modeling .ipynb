{
 "cells": [
  {
   "cell_type": "code",
   "execution_count": 80,
   "metadata": {},
   "outputs": [],
   "source": [
    "import os\n",
    "import pandas as pd\n",
    "from sklearn.metrics import r2_score\n",
    "from rfpimp import permutation_importances\n",
    "from sklearn.ensemble import RandomForestRegressor\n",
    "from sklearn.model_selection import train_test_split\n",
    "import seaborn as sns\n",
    "import matplotlib.pyplot as plt"
   ]
  },
  {
   "cell_type": "code",
   "execution_count": 3,
   "metadata": {},
   "outputs": [],
   "source": [
    "#os.chdir('/Users/apple/Desktop/Fall2019/ANLY503/HW/Project')"
   ]
  },
  {
   "cell_type": "code",
   "execution_count": 88,
   "metadata": {},
   "outputs": [
    {
     "data": {
      "text/html": [
       "<div>\n",
       "<style scoped>\n",
       "    .dataframe tbody tr th:only-of-type {\n",
       "        vertical-align: middle;\n",
       "    }\n",
       "\n",
       "    .dataframe tbody tr th {\n",
       "        vertical-align: top;\n",
       "    }\n",
       "\n",
       "    .dataframe thead th {\n",
       "        text-align: right;\n",
       "    }\n",
       "</style>\n",
       "<table border=\"1\" class=\"dataframe\">\n",
       "  <thead>\n",
       "    <tr style=\"text-align: right;\">\n",
       "      <th></th>\n",
       "      <th>Unnamed: 0</th>\n",
       "      <th>Unnamed: 0.1</th>\n",
       "      <th>gmDate</th>\n",
       "      <th>gmTime</th>\n",
       "      <th>seasTyp</th>\n",
       "      <th>offLNm1</th>\n",
       "      <th>offFNm1</th>\n",
       "      <th>offLNm2</th>\n",
       "      <th>offFNm2</th>\n",
       "      <th>teamAbbr</th>\n",
       "      <th>...</th>\n",
       "      <th>opptFIC40</th>\n",
       "      <th>opptOrtg</th>\n",
       "      <th>opptDrtg</th>\n",
       "      <th>opptEDiff</th>\n",
       "      <th>opptPlay%</th>\n",
       "      <th>opptAR</th>\n",
       "      <th>opptAST/TO</th>\n",
       "      <th>opptSTL/TO</th>\n",
       "      <th>poss</th>\n",
       "      <th>pace</th>\n",
       "    </tr>\n",
       "  </thead>\n",
       "  <tbody>\n",
       "    <tr>\n",
       "      <th>0</th>\n",
       "      <td>0</td>\n",
       "      <td>0</td>\n",
       "      <td>2017-10-17</td>\n",
       "      <td>08:00</td>\n",
       "      <td>Regular</td>\n",
       "      <td>Forte</td>\n",
       "      <td>Brian</td>\n",
       "      <td>Smith</td>\n",
       "      <td>Michael</td>\n",
       "      <td>BOS</td>\n",
       "      <td>...</td>\n",
       "      <td>55.5208</td>\n",
       "      <td>101.7143</td>\n",
       "      <td>98.7227</td>\n",
       "      <td>2.9916</td>\n",
       "      <td>0.4176</td>\n",
       "      <td>14.6154</td>\n",
       "      <td>1.1176</td>\n",
       "      <td>17.6471</td>\n",
       "      <td>100.2809</td>\n",
       "      <td>99.8648</td>\n",
       "    </tr>\n",
       "    <tr>\n",
       "      <th>1</th>\n",
       "      <td>1</td>\n",
       "      <td>1</td>\n",
       "      <td>2017-10-17</td>\n",
       "      <td>08:00</td>\n",
       "      <td>Regular</td>\n",
       "      <td>Forte</td>\n",
       "      <td>Brian</td>\n",
       "      <td>Smith</td>\n",
       "      <td>Michael</td>\n",
       "      <td>CLE</td>\n",
       "      <td>...</td>\n",
       "      <td>62.5519</td>\n",
       "      <td>98.7227</td>\n",
       "      <td>101.7143</td>\n",
       "      <td>-2.9916</td>\n",
       "      <td>0.3956</td>\n",
       "      <td>17.7778</td>\n",
       "      <td>2.0000</td>\n",
       "      <td>91.6667</td>\n",
       "      <td>100.2809</td>\n",
       "      <td>100.2809</td>\n",
       "    </tr>\n",
       "    <tr>\n",
       "      <th>2</th>\n",
       "      <td>2</td>\n",
       "      <td>2</td>\n",
       "      <td>2017-10-17</td>\n",
       "      <td>10:30</td>\n",
       "      <td>Regular</td>\n",
       "      <td>Maddox</td>\n",
       "      <td>Tre</td>\n",
       "      <td>Garretson</td>\n",
       "      <td>Ron</td>\n",
       "      <td>HOU</td>\n",
       "      <td>...</td>\n",
       "      <td>86.2033</td>\n",
       "      <td>118.0353</td>\n",
       "      <td>119.0108</td>\n",
       "      <td>-0.9755</td>\n",
       "      <td>0.4725</td>\n",
       "      <td>24.2442</td>\n",
       "      <td>2.0000</td>\n",
       "      <td>29.4118</td>\n",
       "      <td>102.5117</td>\n",
       "      <td>102.9406</td>\n",
       "    </tr>\n",
       "  </tbody>\n",
       "</table>\n",
       "<p>3 rows × 123 columns</p>\n",
       "</div>"
      ],
      "text/plain": [
       "   Unnamed: 0  Unnamed: 0.1      gmDate gmTime  seasTyp offLNm1 offFNm1  \\\n",
       "0           0             0  2017-10-17  08:00  Regular   Forte   Brian   \n",
       "1           1             1  2017-10-17  08:00  Regular   Forte   Brian   \n",
       "2           2             2  2017-10-17  10:30  Regular  Maddox     Tre   \n",
       "\n",
       "     offLNm2  offFNm2 teamAbbr    ...    opptFIC40  opptOrtg  opptDrtg  \\\n",
       "0      Smith  Michael      BOS    ...      55.5208  101.7143   98.7227   \n",
       "1      Smith  Michael      CLE    ...      62.5519   98.7227  101.7143   \n",
       "2  Garretson      Ron      HOU    ...      86.2033  118.0353  119.0108   \n",
       "\n",
       "  opptEDiff  opptPlay%   opptAR  opptAST/TO  opptSTL/TO      poss      pace  \n",
       "0    2.9916     0.4176  14.6154      1.1176     17.6471  100.2809   99.8648  \n",
       "1   -2.9916     0.3956  17.7778      2.0000     91.6667  100.2809  100.2809  \n",
       "2   -0.9755     0.4725  24.2442      2.0000     29.4118  102.5117  102.9406  \n",
       "\n",
       "[3 rows x 123 columns]"
      ]
     },
     "execution_count": 88,
     "metadata": {},
     "output_type": "execute_result"
    }
   ],
   "source": [
    "# read in dataset\n",
    "team_df = pd.read_csv(\"teams_stat.csv\")\n",
    "team_df.head(3)"
   ]
  },
  {
   "cell_type": "code",
   "execution_count": 82,
   "metadata": {},
   "outputs": [],
   "source": [
    "train_cols = ['teamMin',\n",
    " 'teamDayOff',\n",
    " 'teamAST',\n",
    " 'teamTO',\n",
    " 'teamSTL',\n",
    " 'teamBLK',\n",
    " 'teamPF',\n",
    " 'teamFGA',\n",
    " 'teamFG%',\n",
    " 'team2PA',\n",
    " 'team2P%',\n",
    " 'team3PA',\n",
    " 'team3P%',\n",
    " 'teamFTA',\n",
    " 'teamFT%',\n",
    " 'teamORB',\n",
    " 'teamDRB',\n",
    " 'teamTRB']\n",
    "target_col = 'teamRslt' "
   ]
  },
  {
   "cell_type": "code",
   "execution_count": 83,
   "metadata": {},
   "outputs": [],
   "source": [
    "# Create Features & Target \n",
    "X = team_df[train_cols]\n",
    "y = team_df[target_col].apply(lambda x: 1 if x=='Win' else 0) # Target Encoding  \n",
    "X_train, X_valid, y_train, y_valid = train_test_split(X, y, test_size = 0.8, random_state = 0)"
   ]
  },
  {
   "cell_type": "code",
   "execution_count": 84,
   "metadata": {},
   "outputs": [
    {
     "data": {
      "text/plain": [
       "RandomForestRegressor(bootstrap=True, criterion='mse', max_depth=None,\n",
       "           max_features='auto', max_leaf_nodes=None,\n",
       "           min_impurity_decrease=0.0, min_impurity_split=None,\n",
       "           min_samples_leaf=1, min_samples_split=2,\n",
       "           min_weight_fraction_leaf=0.0, n_estimators=100, n_jobs=None,\n",
       "           oob_score=True, random_state=0, verbose=0, warm_start=False)"
      ]
     },
     "execution_count": 84,
     "metadata": {},
     "output_type": "execute_result"
    }
   ],
   "source": [
    "# train model\n",
    "rf = RandomForestRegressor(n_estimators = 100,\n",
    "                           oob_score = True,\n",
    "                           bootstrap = True,\n",
    "                           random_state = 0)\n",
    "rf.fit(X_train, y_train)"
   ]
  },
  {
   "cell_type": "code",
   "execution_count": 85,
   "metadata": {},
   "outputs": [
    {
     "data": {
      "text/html": [
       "<div>\n",
       "<style scoped>\n",
       "    .dataframe tbody tr th:only-of-type {\n",
       "        vertical-align: middle;\n",
       "    }\n",
       "\n",
       "    .dataframe tbody tr th {\n",
       "        vertical-align: top;\n",
       "    }\n",
       "\n",
       "    .dataframe thead th {\n",
       "        text-align: right;\n",
       "    }\n",
       "</style>\n",
       "<table border=\"1\" class=\"dataframe\">\n",
       "  <thead>\n",
       "    <tr style=\"text-align: right;\">\n",
       "      <th></th>\n",
       "      <th>Feature</th>\n",
       "      <th>Importance</th>\n",
       "    </tr>\n",
       "  </thead>\n",
       "  <tbody>\n",
       "    <tr>\n",
       "      <th>0</th>\n",
       "      <td>teamFG%</td>\n",
       "      <td>0.413169</td>\n",
       "    </tr>\n",
       "    <tr>\n",
       "      <th>1</th>\n",
       "      <td>teamTRB</td>\n",
       "      <td>0.356923</td>\n",
       "    </tr>\n",
       "    <tr>\n",
       "      <th>2</th>\n",
       "      <td>teamDRB</td>\n",
       "      <td>0.109244</td>\n",
       "    </tr>\n",
       "    <tr>\n",
       "      <th>3</th>\n",
       "      <td>team3P%</td>\n",
       "      <td>0.072524</td>\n",
       "    </tr>\n",
       "    <tr>\n",
       "      <th>4</th>\n",
       "      <td>teamAST</td>\n",
       "      <td>0.057284</td>\n",
       "    </tr>\n",
       "  </tbody>\n",
       "</table>\n",
       "</div>"
      ],
      "text/plain": [
       "   Feature  Importance\n",
       "0  teamFG%    0.413169\n",
       "1  teamTRB    0.356923\n",
       "2  teamDRB    0.109244\n",
       "3  team3P%    0.072524\n",
       "4  teamAST    0.057284"
      ]
     },
     "execution_count": 85,
     "metadata": {},
     "output_type": "execute_result"
    }
   ],
   "source": [
    "# plot feature importance\n",
    "def r2(rf, X_train, y_train):\n",
    "    return r2_score(y_train, rf.predict(X_train))\n",
    "\n",
    "perm_imp_rfpimp = permutation_importances(rf, X_train, y_train, r2)\n",
    "imp_plot = perm_imp_rfpimp.reset_index()\n",
    "imp_plot.head()"
   ]
  },
  {
   "cell_type": "code",
   "execution_count": 87,
   "metadata": {},
   "outputs": [
    {
     "data": {
      "image/png": "[encoded data removed]",
      "text/plain": [
       "<Figure size 842.4x595.44 with 1 Axes>"
      ]
     },
     "metadata": {},
     "output_type": "display_data"
    }
   ],
   "source": [
    "# Plot Feature Importance\n",
    "sns.set(rc={'figure.figsize':(11.7, 8.27)})\n",
    "fig, ax = plt.subplots( nrows=1, ncols=1 )  \n",
    "ax= sns.barplot(x='Importance', y=\"Feature\", data=imp_plot,color=\"salmon\",  saturation=.5)\n",
    "ax.set_title('Feature Importance When Predicting Win & Loss').set_fontsize(18)\n",
    "ax.set_xlabel('Importance').set_fontsize(15)\n",
    "ax.set_ylabel('Feature').set_fontsize(15)\n",
    "fig.savefig('Result_Prediction_Feature_Importance')   # save the figure to file"
   ]
  },
  {
   "cell_type": "code",
   "execution_count": null,
   "metadata": {},
   "outputs": [],
   "source": []
  }
 ],
 "metadata": {
  "kernelspec": {
   "display_name": "Python 3",
   "language": "python",
   "name": "python3"
  },
  "language_info": {
   "codemirror_mode": {
    "name": "ipython",
    "version": 3
   },
   "file_extension": ".py",
   "mimetype": "text/x-python",
   "name": "python",
   "nbconvert_exporter": "python",
   "pygments_lexer": "ipython3",
   "version": "3.6.8"
  }
 },
 "nbformat": 4,
 "nbformat_minor": 2
}
